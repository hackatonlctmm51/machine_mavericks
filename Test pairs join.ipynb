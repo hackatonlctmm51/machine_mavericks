{
 "cells": [
  {
   "cell_type": "markdown",
   "id": "3cbe640e",
   "metadata": {
    "toc": true
   },
   "source": [
    "<h1>Table of Contents<span class=\"tocSkip\"></span></h1>\n",
    "<div class=\"toc\"><ul class=\"toc-item\"></ul></div>"
   ]
  },
  {
   "cell_type": "code",
   "execution_count": 1,
   "id": "8de3be89",
   "metadata": {},
   "outputs": [],
   "source": [
    "import pandas as pd\n",
    "import numpy as np"
   ]
  },
  {
   "cell_type": "code",
   "execution_count": 2,
   "id": "78de25d2",
   "metadata": {},
   "outputs": [
    {
     "data": {
      "text/plain": [
       "(35730, 8)"
      ]
     },
     "execution_count": 2,
     "metadata": {},
     "output_type": "execute_result"
    }
   ],
   "source": [
    "test = pd.read_parquet('e:\\\\ds\\\\hackaton\\\\files\\\\datasets\\\\test_data_mod.parquet')\n",
    "test.shape"
   ]
  },
  {
   "cell_type": "code",
   "execution_count": 4,
   "id": "8d24c269",
   "metadata": {},
   "outputs": [],
   "source": [
    "test_pairs_wo_target = pd.read_parquet('e:\\\\ds\\\\hackaton\\\\test_pairs_wo_target.parquet')"
   ]
  },
  {
   "cell_type": "markdown",
   "id": "db6195e3",
   "metadata": {},
   "source": [
    "----"
   ]
  },
  {
   "cell_type": "markdown",
   "id": "3674d68b",
   "metadata": {},
   "source": [
    "перевод в парный вид"
   ]
  },
  {
   "cell_type": "code",
   "execution_count": 6,
   "id": "2d59b655",
   "metadata": {},
   "outputs": [],
   "source": [
    "test = test.rename(columns={'variantid': 'variantid1'})"
   ]
  },
  {
   "cell_type": "code",
   "execution_count": 7,
   "id": "b938dbec",
   "metadata": {},
   "outputs": [],
   "source": [
    "cols = ['variantid1','name', 'categories','main_pic_embeddings_resnet_v1', 'name_bert_64', 'characteristic_attributes_mapping']"
   ]
  },
  {
   "cell_type": "code",
   "execution_count": 8,
   "id": "32c0f19f",
   "metadata": {},
   "outputs": [],
   "source": [
    "join_1 = test_pairs_wo_target.join(test[cols].set_index('variantid1'), on = 'variantid1', rsuffix = '_1')"
   ]
  },
  {
   "cell_type": "code",
   "execution_count": 11,
   "id": "c6821967",
   "metadata": {},
   "outputs": [],
   "source": [
    "test = test.rename(columns={'variantid1': 'variantid2'})"
   ]
  },
  {
   "cell_type": "code",
   "execution_count": 10,
   "id": "24e1288b",
   "metadata": {},
   "outputs": [],
   "source": [
    "cols = ['variantid2','name', 'categories','main_pic_embeddings_resnet_v1', 'name_bert_64', 'characteristic_attributes_mapping']"
   ]
  },
  {
   "cell_type": "code",
   "execution_count": 12,
   "id": "caf6c90a",
   "metadata": {},
   "outputs": [],
   "source": [
    "joined = join_1.join(test[cols].set_index('variantid2'), on = 'variantid2', rsuffix = '_2')"
   ]
  },
  {
   "cell_type": "code",
   "execution_count": 14,
   "id": "2d27c5cd",
   "metadata": {},
   "outputs": [
    {
     "data": {
      "text/plain": [
       "(18084, 12)"
      ]
     },
     "execution_count": 14,
     "metadata": {},
     "output_type": "execute_result"
    }
   ],
   "source": [
    "joined.shape"
   ]
  },
  {
   "cell_type": "markdown",
   "id": "8d37cdfd",
   "metadata": {},
   "source": [
    "уменьшение пространств векторов"
   ]
  },
  {
   "cell_type": "code",
   "execution_count": 15,
   "id": "93cc4a1e",
   "metadata": {},
   "outputs": [],
   "source": [
    "def scueezing_vecs(val):\n",
    "    try:\n",
    "        r = val[0]\n",
    "    except:\n",
    "        r = None\n",
    "    return r"
   ]
  },
  {
   "cell_type": "code",
   "execution_count": 16,
   "id": "a0a47920",
   "metadata": {},
   "outputs": [],
   "source": [
    "def category_3(val):\n",
    "    return val.split('\"')[11]"
   ]
  },
  {
   "cell_type": "code",
   "execution_count": 17,
   "id": "ad437f30",
   "metadata": {},
   "outputs": [],
   "source": [
    "def category_4(val):\n",
    "    return val.split('\"')[15]"
   ]
  },
  {
   "cell_type": "code",
   "execution_count": 18,
   "id": "c404c051",
   "metadata": {},
   "outputs": [],
   "source": [
    "# joined['pic_embeddings_resnet_v1'] = joined['pic_embeddings_resnet_v1'].apply(scueezing_vecs)\n",
    "joined['main_pic_embeddings_resnet_v1'] = joined['main_pic_embeddings_resnet_v1'].apply(scueezing_vecs)\n",
    "# joined['pic_embeddings_resnet_v1_2'] = joined['pic_embeddings_resnet_v1_2'].apply(scueezing_vecs)\n",
    "joined['main_pic_embeddings_resnet_v1_2'] = joined['main_pic_embeddings_resnet_v1_2'].apply(scueezing_vecs)"
   ]
  },
  {
   "cell_type": "code",
   "execution_count": 19,
   "id": "af0d0e42",
   "metadata": {},
   "outputs": [],
   "source": [
    "joined.loc[:,'categories_2'] = joined.loc[:,'categories'].apply(category_4)\n",
    "joined.loc[:,'categories'] = joined.loc[:,'categories'].apply(category_3)"
   ]
  },
  {
   "cell_type": "code",
   "execution_count": 21,
   "id": "3be467b3",
   "metadata": {},
   "outputs": [],
   "source": [
    "joined.to_parquet('e:\\\\ds\\\\hackaton\\\\test_pairs_3.parquet')"
   ]
  },
  {
   "cell_type": "code",
   "execution_count": null,
   "id": "0c06849d",
   "metadata": {},
   "outputs": [],
   "source": []
  }
 ],
 "metadata": {
  "hide_input": false,
  "kernelspec": {
   "display_name": "Python 3 (ipykernel)",
   "language": "python",
   "name": "python3"
  },
  "language_info": {
   "codemirror_mode": {
    "name": "ipython",
    "version": 3
   },
   "file_extension": ".py",
   "mimetype": "text/x-python",
   "name": "python",
   "nbconvert_exporter": "python",
   "pygments_lexer": "ipython3",
   "version": "3.10.4"
  },
  "toc": {
   "base_numbering": 1,
   "nav_menu": {},
   "number_sections": true,
   "sideBar": true,
   "skip_h1_title": false,
   "title_cell": "Table of Contents",
   "title_sidebar": "Contents",
   "toc_cell": true,
   "toc_position": {},
   "toc_section_display": true,
   "toc_window_display": false
  },
  "varInspector": {
   "cols": {
    "lenName": 16,
    "lenType": 16,
    "lenVar": 40
   },
   "kernels_config": {
    "python": {
     "delete_cmd_postfix": "",
     "delete_cmd_prefix": "del ",
     "library": "var_list.py",
     "varRefreshCmd": "print(var_dic_list())"
    },
    "r": {
     "delete_cmd_postfix": ") ",
     "delete_cmd_prefix": "rm(",
     "library": "var_list.r",
     "varRefreshCmd": "cat(var_dic_list()) "
    }
   },
   "oldHeight": 719.61778,
   "position": {
    "height": "40px",
    "left": "1794.31px",
    "right": "20px",
    "top": "130.984px",
    "width": "457.715px"
   },
   "types_to_exclude": [
    "module",
    "function",
    "builtin_function_or_method",
    "instance",
    "_Feature"
   ],
   "varInspector_section_display": "none",
   "window_display": true
  }
 },
 "nbformat": 4,
 "nbformat_minor": 5
}
