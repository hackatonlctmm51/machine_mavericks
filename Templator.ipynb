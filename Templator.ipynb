{
 "cells": [
  {
   "cell_type": "markdown",
   "id": "1bb29221",
   "metadata": {
    "toc": true
   },
   "source": [
    "<h1>Table of Contents<span class=\"tocSkip\"></span></h1>\n",
    "<div class=\"toc\"><ul class=\"toc-item\"></ul></div>"
   ]
  },
  {
   "cell_type": "code",
   "execution_count": 1,
   "id": "acd81308",
   "metadata": {},
   "outputs": [],
   "source": [
    "import pandas as pd\n",
    "import numpy as np\n",
    "import re\n",
    "import unicodedata\n",
    "\n",
    "from sklearn.model_selection import train_test_split\n",
    "from sklearn.linear_model import LogisticRegression\n",
    "from sklearn.metrics import f1_score, recall_score, precision_score\n",
    "from sklearn.metrics import precision_recall_curve, auc, roc_curve, roc_auc_score\n",
    "import random as r\n",
    "import matplotlib.pyplot as plt"
   ]
  },
  {
   "cell_type": "code",
   "execution_count": 4,
   "id": "ee2c595a",
   "metadata": {},
   "outputs": [],
   "source": [
    "data = pd.read_parquet('e:\\\\ds\\\\hackaton\\\\joined_mod.parquet')"
   ]
  },
  {
   "cell_type": "code",
   "execution_count": 2,
   "id": "a6540691",
   "metadata": {},
   "outputs": [
    {
     "data": {
      "text/html": [
       "<div>\n",
       "<style scoped>\n",
       "    .dataframe tbody tr th:only-of-type {\n",
       "        vertical-align: middle;\n",
       "    }\n",
       "\n",
       "    .dataframe tbody tr th {\n",
       "        vertical-align: top;\n",
       "    }\n",
       "\n",
       "    .dataframe thead th {\n",
       "        text-align: right;\n",
       "    }\n",
       "</style>\n",
       "<table border=\"1\" class=\"dataframe\">\n",
       "  <thead>\n",
       "    <tr style=\"text-align: right;\">\n",
       "      <th></th>\n",
       "      <th>variantid1</th>\n",
       "      <th>variantid2</th>\n",
       "      <th>name_1</th>\n",
       "      <th>categories_1</th>\n",
       "      <th>color_parsed_1</th>\n",
       "      <th>pic_embeddings_resnet_v1_1</th>\n",
       "      <th>main_pic_embeddings_resnet_v1_1</th>\n",
       "      <th>name_bert_64_1</th>\n",
       "      <th>characteristic_attributes_mapping_1</th>\n",
       "      <th>name_2</th>\n",
       "      <th>categories_2</th>\n",
       "      <th>color_parsed_2</th>\n",
       "      <th>pic_embeddings_resnet_v1_2</th>\n",
       "      <th>main_pic_embeddings_resnet_v1_2</th>\n",
       "      <th>name_bert_64_2</th>\n",
       "      <th>characteristic_attributes_mapping_2</th>\n",
       "    </tr>\n",
       "  </thead>\n",
       "  <tbody>\n",
       "    <tr>\n",
       "      <th>0</th>\n",
       "      <td>52076340</td>\n",
       "      <td>290590137</td>\n",
       "      <td>Батарейка AAA щелочная Perfeo LR03/10BL Super ...</td>\n",
       "      <td>Батарейки и аккумуляторы</td>\n",
       "      <td>None</td>\n",
       "      <td>[0.15417035, 0.41160947, 0.2213532, -0.0197311...</td>\n",
       "      <td>[0.04763528, -0.20136409, 0.29605597, 0.264536...</td>\n",
       "      <td>[-0.28437558, 0.60909724, 0.5972025, -0.523296...</td>\n",
       "      <td>{\"Напряжение, В\":[\"1.5\"],\"Бренд\":[\"Perfeo\"],\"Т...</td>\n",
       "      <td>Батарейка AAA щелочная Perfeo LR03/2BL mini Su...</td>\n",
       "      <td>Батарейки и аккумуляторы</td>\n",
       "      <td>None</td>\n",
       "      <td>[-0.025554053, 0.012488857, 0.43989864, -0.103...</td>\n",
       "      <td>[0.06223978, -0.16145544, 0.26409012, 0.242712...</td>\n",
       "      <td>[-0.3380968, 0.6156224, 0.6428071, -0.57499236...</td>\n",
       "      <td>{\"Форм-фактор батареи\":[\"AAA\"],\"Химический тип...</td>\n",
       "    </tr>\n",
       "  </tbody>\n",
       "</table>\n",
       "</div>"
      ],
      "text/plain": [
       "   variantid1  variantid2                                             name_1   \n",
       "0    52076340   290590137  Батарейка AAA щелочная Perfeo LR03/10BL Super ...  \\\n",
       "\n",
       "               categories_1 color_parsed_1   \n",
       "0  Батарейки и аккумуляторы           None  \\\n",
       "\n",
       "                          pic_embeddings_resnet_v1_1   \n",
       "0  [0.15417035, 0.41160947, 0.2213532, -0.0197311...  \\\n",
       "\n",
       "                     main_pic_embeddings_resnet_v1_1   \n",
       "0  [0.04763528, -0.20136409, 0.29605597, 0.264536...  \\\n",
       "\n",
       "                                      name_bert_64_1   \n",
       "0  [-0.28437558, 0.60909724, 0.5972025, -0.523296...  \\\n",
       "\n",
       "                 characteristic_attributes_mapping_1   \n",
       "0  {\"Напряжение, В\":[\"1.5\"],\"Бренд\":[\"Perfeo\"],\"Т...  \\\n",
       "\n",
       "                                              name_2   \n",
       "0  Батарейка AAA щелочная Perfeo LR03/2BL mini Su...  \\\n",
       "\n",
       "               categories_2 color_parsed_2   \n",
       "0  Батарейки и аккумуляторы           None  \\\n",
       "\n",
       "                          pic_embeddings_resnet_v1_2   \n",
       "0  [-0.025554053, 0.012488857, 0.43989864, -0.103...  \\\n",
       "\n",
       "                     main_pic_embeddings_resnet_v1_2   \n",
       "0  [0.06223978, -0.16145544, 0.26409012, 0.242712...  \\\n",
       "\n",
       "                                      name_bert_64_2   \n",
       "0  [-0.3380968, 0.6156224, 0.6428071, -0.57499236...  \\\n",
       "\n",
       "                 characteristic_attributes_mapping_2  \n",
       "0  {\"Форм-фактор батареи\":[\"AAA\"],\"Химический тип...  "
      ]
     },
     "execution_count": 2,
     "metadata": {},
     "output_type": "execute_result"
    }
   ],
   "source": [
    "test = pd.read_parquet('e:\\\\ds\\\\hackaton\\\\test_pairs.parquet')\n",
    "test.head(1)"
   ]
  },
  {
   "cell_type": "code",
   "execution_count": 10,
   "id": "88d7d73b",
   "metadata": {},
   "outputs": [],
   "source": [
    "test_txt = test[['name_1', 'name_2']]"
   ]
  },
  {
   "cell_type": "code",
   "execution_count": 5,
   "id": "5d6c5d52",
   "metadata": {},
   "outputs": [],
   "source": [
    "data_1 = data[['name', 'categories', 'variantid1', 'variantid2', 'name_2', 'target']]"
   ]
  },
  {
   "cell_type": "code",
   "execution_count": 5,
   "id": "a2a1d705",
   "metadata": {},
   "outputs": [],
   "source": [
    "data_txt = data[['name', 'name_2']]"
   ]
  },
  {
   "cell_type": "markdown",
   "id": "b9e3fc8a",
   "metadata": {},
   "source": [
    "---"
   ]
  },
  {
   "cell_type": "code",
   "execution_count": 3,
   "id": "5c2f0a45",
   "metadata": {},
   "outputs": [],
   "source": [
    "d_ptrn = re.compile('[0-9]')\n",
    "c_ptrn = re.compile('[a-zа-яйёё]')\n",
    "s_ptrn = re.compile('[!\"#$%&\\'()*+,-./:;<=>?@[\\]^_`{|}~]')\n",
    "def templater(txt):\n",
    "    digits = re.findall(d_ptrn, txt)\n",
    "    chars = re.findall(c_ptrn, txt)\n",
    "    symb = re.findall(s_ptrn, txt)\n",
    "    digits_pos = list(set([pos for pos, char in enumerate(txt) for c in digits if char == c]))\n",
    "    chars_pos = list(set([pos for pos, char in enumerate(txt) for c in chars if char == c]))\n",
    "    symb_pos = list(set([pos for pos, char in enumerate(txt) for c in symb if char == c]))\n",
    "    \n",
    "    template = []\n",
    "    if(len(symb_pos) > 0):\n",
    "        s = symb_pos\n",
    "    else:\n",
    "        s = [0]\n",
    "    if(len(digits_pos) > 0):\n",
    "        d = digits_pos\n",
    "    else:\n",
    "        d = [0]\n",
    "    if(len(chars_pos) > 0):\n",
    "        c = chars_pos\n",
    "    else:\n",
    "        c = [0]\n",
    "        \n",
    "    for i in range(len(txt)+1):\n",
    "        if i in symb_pos:\n",
    "            template.append('#')\n",
    "        elif i in digits_pos:\n",
    "            template.append('0')\n",
    "        elif i in chars_pos:\n",
    "            template.append('X')\n",
    "    return ''.join(template)"
   ]
  },
  {
   "cell_type": "code",
   "execution_count": 4,
   "id": "fd350bd0",
   "metadata": {
    "scrolled": false
   },
   "outputs": [],
   "source": [
    "reg_pattern = re.compile('^[a-zа-яйёё,.\"-/]+$|[/]+|[,]+$')\n",
    "def reg(txt):\n",
    "    return ' '.join([re.sub(reg_pattern, '',t.lower()) for t in re.sub(r'[/]+', r' ', re.sub(r'[()]+', r' ', txt)).split(' ') if len(re.sub(reg_pattern, '',t.lower())) > 0])"
   ]
  },
  {
   "cell_type": "code",
   "execution_count": 5,
   "id": "f57a3213",
   "metadata": {},
   "outputs": [],
   "source": [
    "def dl_compare(l1, l2): \n",
    "    pat = re.compile('[a-zа-яйёё]+$')\n",
    "    adl = [re.findall(pat, x)[0] for x in l1]\n",
    "    bdl = [re.findall(pat, x)[0] for x in l2]\n",
    "    return set(adl) & set(bdl)"
   ]
  },
  {
   "cell_type": "code",
   "execution_count": 6,
   "id": "be4c87d0",
   "metadata": {},
   "outputs": [],
   "source": [
    "def dupl_searcher(pair_df):\n",
    "    sim = 0\n",
    "    unlike = 0\n",
    "    wopair = 0\n",
    "    for col in pair_df.columns.to_list():   \n",
    "        a = pair_df[col][0]\n",
    "        b = pair_df[col][1]\n",
    "        c = set(a) & set(b)\n",
    "        sim = sim + len(c)\n",
    "        for each in c:\n",
    "            a_times = [idx for idx, val in enumerate(a) if val == each]\n",
    "            b_times = [idx for idx, val in enumerate(b) if val == each]\n",
    "            times = np.minimum(len(a_times), len(b_times))\n",
    "            for t in range(times):\n",
    "                a.remove(each)\n",
    "                b.remove(each)\n",
    "            \n",
    "        unlike = unlike + np.minimum(len(a), len(b))\n",
    "        for i in range(np.minimum(len(a), len(b))):\n",
    "            del a[0]\n",
    "            del b[0]\n",
    "\n",
    "        pair_df[col][0] = a\n",
    "        pair_df[col][1] = b\n",
    "    wopair = pair_df.applymap(lambda x: len(x)).to_numpy().sum()\n",
    "\n",
    "    return sim, unlike, wopair"
   ]
  },
  {
   "cell_type": "code",
   "execution_count": 7,
   "id": "302b6c48",
   "metadata": {},
   "outputs": [],
   "source": [
    "digits_pat = re.compile('^[\\d+]+$')\n",
    "let_pat = re.compile('^[a-zа-яйёё]+$')\n",
    "dl_pat = re.compile('^[0-9]+[a-zа-яйёё]+$')\n",
    "every_pat = re.compile('[+\\w\\s\\d-]+')\n",
    "\n",
    "def pair_analysis(val):\n",
    "    txt_1 = val[0]\n",
    "    txt_2 = val[1]\n",
    "    t1 = reg(unicodedata.normalize(\"NFKD\", txt_1).lower()).split(' ')\n",
    "    t2 = reg(unicodedata.normalize(\"NFKD\", txt_2).lower()).split(' ')\n",
    "#-----templates\n",
    "    token_types = []\n",
    "    for each in t1+t2:\n",
    "        if len(each) == 0:\n",
    "            continue\n",
    "        token_types.append(templater(each))\n",
    "    token_types = list(set(token_types))\n",
    "#===============\n",
    "    t1_dict = {}\n",
    "    t2_dict = {}\n",
    "    for c in token_types:\n",
    "        t1_dict[c] = [x for x in t1 if templater(x) == c]\n",
    "        t2_dict[c] = [x for x in t2 if templater(x) == c]\n",
    "    txt_pair_df = pd.DataFrame(data = (t1_dict, t2_dict))\n",
    "    return dupl_searcher(txt_pair_df)"
   ]
  },
  {
   "cell_type": "code",
   "execution_count": 11,
   "id": "e68edd1a",
   "metadata": {
    "scrolled": true
   },
   "outputs": [
    {
     "name": "stdout",
     "output_type": "stream",
     "text": [
      "CPU times: total: 1min\n",
      "Wall time: 1min 1s\n"
     ]
    }
   ],
   "source": [
    "%%time\n",
    "results = test_txt.loc[:].apply(pair_analysis, axis = 1)"
   ]
  },
  {
   "cell_type": "code",
   "execution_count": 13,
   "id": "d66c943e",
   "metadata": {},
   "outputs": [
    {
     "data": {
      "text/html": [
       "<div>\n",
       "<style scoped>\n",
       "    .dataframe tbody tr th:only-of-type {\n",
       "        vertical-align: middle;\n",
       "    }\n",
       "\n",
       "    .dataframe tbody tr th {\n",
       "        vertical-align: top;\n",
       "    }\n",
       "\n",
       "    .dataframe thead th {\n",
       "        text-align: right;\n",
       "    }\n",
       "</style>\n",
       "<table border=\"1\" class=\"dataframe\">\n",
       "  <thead>\n",
       "    <tr style=\"text-align: right;\">\n",
       "      <th></th>\n",
       "      <th>similar</th>\n",
       "      <th>opposite</th>\n",
       "      <th>single</th>\n",
       "    </tr>\n",
       "  </thead>\n",
       "  <tbody>\n",
       "    <tr>\n",
       "      <th>0</th>\n",
       "      <td>1</td>\n",
       "      <td>0</td>\n",
       "      <td>5.0</td>\n",
       "    </tr>\n",
       "    <tr>\n",
       "      <th>1</th>\n",
       "      <td>1</td>\n",
       "      <td>2</td>\n",
       "      <td>0.0</td>\n",
       "    </tr>\n",
       "    <tr>\n",
       "      <th>2</th>\n",
       "      <td>1</td>\n",
       "      <td>0</td>\n",
       "      <td>4.0</td>\n",
       "    </tr>\n",
       "    <tr>\n",
       "      <th>3</th>\n",
       "      <td>2</td>\n",
       "      <td>0</td>\n",
       "      <td>4.0</td>\n",
       "    </tr>\n",
       "    <tr>\n",
       "      <th>4</th>\n",
       "      <td>2</td>\n",
       "      <td>1</td>\n",
       "      <td>1.0</td>\n",
       "    </tr>\n",
       "    <tr>\n",
       "      <th>...</th>\n",
       "      <td>...</td>\n",
       "      <td>...</td>\n",
       "      <td>...</td>\n",
       "    </tr>\n",
       "    <tr>\n",
       "      <th>18079</th>\n",
       "      <td>3</td>\n",
       "      <td>2</td>\n",
       "      <td>10.0</td>\n",
       "    </tr>\n",
       "    <tr>\n",
       "      <th>18080</th>\n",
       "      <td>0</td>\n",
       "      <td>0</td>\n",
       "      <td>2.0</td>\n",
       "    </tr>\n",
       "    <tr>\n",
       "      <th>18081</th>\n",
       "      <td>1</td>\n",
       "      <td>4</td>\n",
       "      <td>4.0</td>\n",
       "    </tr>\n",
       "    <tr>\n",
       "      <th>18082</th>\n",
       "      <td>1</td>\n",
       "      <td>0</td>\n",
       "      <td>0.0</td>\n",
       "    </tr>\n",
       "    <tr>\n",
       "      <th>18083</th>\n",
       "      <td>4</td>\n",
       "      <td>0</td>\n",
       "      <td>2.0</td>\n",
       "    </tr>\n",
       "  </tbody>\n",
       "</table>\n",
       "<p>18084 rows × 3 columns</p>\n",
       "</div>"
      ],
      "text/plain": [
       "       similar  opposite  single\n",
       "0            1         0     5.0\n",
       "1            1         2     0.0\n",
       "2            1         0     4.0\n",
       "3            2         0     4.0\n",
       "4            2         1     1.0\n",
       "...        ...       ...     ...\n",
       "18079        3         2    10.0\n",
       "18080        0         0     2.0\n",
       "18081        1         4     4.0\n",
       "18082        1         0     0.0\n",
       "18083        4         0     2.0\n",
       "\n",
       "[18084 rows x 3 columns]"
      ]
     },
     "execution_count": 13,
     "metadata": {},
     "output_type": "execute_result"
    }
   ],
   "source": [
    "results_df = pd.DataFrame.from_records(results, columns=['similar', 'opposite', 'single'])\n",
    "results_df"
   ]
  },
  {
   "cell_type": "code",
   "execution_count": 15,
   "id": "811b3ce4",
   "metadata": {},
   "outputs": [],
   "source": [
    "# results_df.to_csv('e:\\\\ds\\\\hackaton\\\\results_df.csv', index=False)"
   ]
  },
  {
   "cell_type": "code",
   "execution_count": 15,
   "id": "6f58ad4d",
   "metadata": {},
   "outputs": [],
   "source": [
    "results_df.to_csv('e:\\\\ds\\\\hackaton\\\\test_results_df.csv', index=False)"
   ]
  },
  {
   "cell_type": "markdown",
   "id": "ca670d6a",
   "metadata": {},
   "source": [
    "---"
   ]
  },
  {
   "cell_type": "markdown",
   "id": "28f4c471",
   "metadata": {},
   "source": [
    "---"
   ]
  }
 ],
 "metadata": {
  "hide_input": false,
  "kernelspec": {
   "display_name": "Python 3 (ipykernel)",
   "language": "python",
   "name": "python3"
  },
  "language_info": {
   "codemirror_mode": {
    "name": "ipython",
    "version": 3
   },
   "file_extension": ".py",
   "mimetype": "text/x-python",
   "name": "python",
   "nbconvert_exporter": "python",
   "pygments_lexer": "ipython3",
   "version": "3.10.4"
  },
  "toc": {
   "base_numbering": 1,
   "nav_menu": {},
   "number_sections": true,
   "sideBar": true,
   "skip_h1_title": false,
   "title_cell": "Table of Contents",
   "title_sidebar": "Contents",
   "toc_cell": true,
   "toc_position": {},
   "toc_section_display": true,
   "toc_window_display": false
  },
  "varInspector": {
   "cols": {
    "lenName": 16,
    "lenType": 16,
    "lenVar": 40
   },
   "kernels_config": {
    "python": {
     "delete_cmd_postfix": "",
     "delete_cmd_prefix": "del ",
     "library": "var_list.py",
     "varRefreshCmd": "print(var_dic_list())"
    },
    "r": {
     "delete_cmd_postfix": ") ",
     "delete_cmd_prefix": "rm(",
     "library": "var_list.r",
     "varRefreshCmd": "cat(var_dic_list()) "
    }
   },
   "oldHeight": 773.95878,
   "position": {
    "height": "40px",
    "left": "1819.3px",
    "right": "20px",
    "top": "121.977px",
    "width": "462.012px"
   },
   "types_to_exclude": [
    "module",
    "function",
    "builtin_function_or_method",
    "instance",
    "_Feature"
   ],
   "varInspector_section_display": "none",
   "window_display": true
  }
 },
 "nbformat": 4,
 "nbformat_minor": 5
}
